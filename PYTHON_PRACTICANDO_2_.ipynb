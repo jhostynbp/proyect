{
  "nbformat": 4,
  "nbformat_minor": 0,
  "metadata": {
    "colab": {
      "provenance": [],
      "authorship_tag": "ABX9TyPU0LV4AKbpaQVsJ7ES2FcL",
      "include_colab_link": true
    },
    "kernelspec": {
      "name": "python3",
      "display_name": "Python 3"
    },
    "language_info": {
      "name": "python"
    }
  },
  "cells": [
    {
      "cell_type": "markdown",
      "metadata": {
        "id": "view-in-github",
        "colab_type": "text"
      },
      "source": [
        "<a href=\"https://colab.research.google.com/github/jhostynbp/proyect/blob/master/PYTHON_PRACTICANDO_2_.ipynb\" target=\"_parent\"><img src=\"https://colab.research.google.com/assets/colab-badge.svg\" alt=\"Open In Colab\"/></a>"
      ]
    },
    {
      "cell_type": "markdown",
      "source": [
        "#--MODULO 2 --- ESTRUCTURA DE DATOS"
      ],
      "metadata": {
        "id": "Ef3xyXN3N1Ip"
      }
    },
    {
      "cell_type": "markdown",
      "source": [
        "#LISTAS"
      ],
      "metadata": {
        "id": "3ZhHhxQpN91L"
      }
    },
    {
      "cell_type": "code",
      "source": [
        "Temperaturas_nombres = [\"Brazil\",23,\"Mexico\",21,\"Peru\",23]"
      ],
      "metadata": {
        "id": "KAZJxCiwN_1O"
      },
      "execution_count": null,
      "outputs": []
    },
    {
      "cell_type": "code",
      "source": [
        "Temperaturas_nombres"
      ],
      "metadata": {
        "colab": {
          "base_uri": "https://localhost:8080/"
        },
        "id": "b4SUgEBtPdwe",
        "outputId": "8b071ede-9ef5-4e61-9ba3-26fb3c0c5fe4"
      },
      "execution_count": null,
      "outputs": [
        {
          "output_type": "execute_result",
          "data": {
            "text/plain": [
              "['Brazil', 23, 'Mexico', 21, 'Peru', 23]"
            ]
          },
          "metadata": {},
          "execution_count": 5
        }
      ]
    },
    {
      "cell_type": "code",
      "source": [
        "#RECONOCE COM LISTA\n",
        "type(Temperaturas_nombres)"
      ],
      "metadata": {
        "colab": {
          "base_uri": "https://localhost:8080/"
        },
        "id": "HLl5F5IlOv18",
        "outputId": "cc2dd343-93b4-4b03-9e7e-3fa3c79bca35"
      },
      "execution_count": null,
      "outputs": [
        {
          "output_type": "execute_result",
          "data": {
            "text/plain": [
              "list"
            ]
          },
          "metadata": {},
          "execution_count": 2
        }
      ]
    },
    {
      "cell_type": "code",
      "source": [
        "#LISTA DE LISTA}\n",
        "#AGRUPAR\n",
        "Temperatura_lista = [[\"Brazil\",25],[\"Mexico\",21],[\"Peru\",23]]"
      ],
      "metadata": {
        "id": "5MJlKizYO3Cs"
      },
      "execution_count": null,
      "outputs": []
    },
    {
      "cell_type": "code",
      "source": [
        "Temperatura_lista"
      ],
      "metadata": {
        "colab": {
          "base_uri": "https://localhost:8080/"
        },
        "id": "DsVdOcTLPZoQ",
        "outputId": "1510716b-3e4e-4221-e29f-169265210ea2"
      },
      "execution_count": null,
      "outputs": [
        {
          "output_type": "execute_result",
          "data": {
            "text/plain": [
              "[['Brazil', 25], ['Mexico', 21], ['Peru', 23]]"
            ]
          },
          "metadata": {},
          "execution_count": 4
        }
      ]
    },
    {
      "cell_type": "markdown",
      "source": [
        "# OPERACIONES CON LISTAS"
      ],
      "metadata": {
        "id": "5CM0OlyZP3gK"
      }
    },
    {
      "cell_type": "markdown",
      "source": [
        "##SUB CONJUNTOS"
      ],
      "metadata": {
        "id": "mduDhymuRu7D"
      }
    },
    {
      "cell_type": "code",
      "source": [
        "Temperaturas_nombres"
      ],
      "metadata": {
        "colab": {
          "base_uri": "https://localhost:8080/"
        },
        "id": "m-SlRHCYPbKJ",
        "outputId": "1cc869ea-4f23-4255-9eb5-b206668f5ce9"
      },
      "execution_count": null,
      "outputs": [
        {
          "output_type": "execute_result",
          "data": {
            "text/plain": [
              "['Brazil', 23, 'Mexico', 21, 'Peru', 23]"
            ]
          },
          "metadata": {},
          "execution_count": 6
        }
      ]
    },
    {
      "cell_type": "code",
      "source": [
        "#INDICE 1 EXTRAE EL PRIMER ELEMENTO DE LA LISTA\n",
        "Temperaturas_nombres[0]"
      ],
      "metadata": {
        "colab": {
          "base_uri": "https://localhost:8080/",
          "height": 36
        },
        "id": "ZlPDzRcfR4qx",
        "outputId": "1dd4160d-2afb-476d-c427-720e919a0798"
      },
      "execution_count": null,
      "outputs": [
        {
          "output_type": "execute_result",
          "data": {
            "text/plain": [
              "'Brazil'"
            ],
            "application/vnd.google.colaboratory.intrinsic+json": {
              "type": "string"
            }
          },
          "metadata": {},
          "execution_count": 10
        }
      ]
    },
    {
      "cell_type": "code",
      "source": [
        "#INDICE -1 EXTRAE EL ULTIMO ELEMENTO DE LA LISTA\n",
        "Temperaturas_nombres[-1]"
      ],
      "metadata": {
        "colab": {
          "base_uri": "https://localhost:8080/"
        },
        "id": "rrGr2KQ8R-0W",
        "outputId": "1181409b-cc94-4946-99f9-f3621f93a2f3"
      },
      "execution_count": null,
      "outputs": [
        {
          "output_type": "execute_result",
          "data": {
            "text/plain": [
              "23"
            ]
          },
          "metadata": {},
          "execution_count": 9
        }
      ]
    },
    {
      "cell_type": "code",
      "source": [
        "#LISTA DE LISTA\n",
        "Temperatura_lista"
      ],
      "metadata": {
        "colab": {
          "base_uri": "https://localhost:8080/"
        },
        "id": "AHbxagkZSRrL",
        "outputId": "b575955e-7c31-4245-d508-c164adda4cf3"
      },
      "execution_count": null,
      "outputs": [
        {
          "output_type": "execute_result",
          "data": {
            "text/plain": [
              "[['Brazil', 25], ['Mexico', 21], ['Peru', 23]]"
            ]
          },
          "metadata": {},
          "execution_count": 13
        }
      ]
    },
    {
      "cell_type": "code",
      "source": [
        "#EXTRAE EL SEGUNDO ELEMENTO DE LA PRIMERA LISTA Y LUEGO EL ELEMENTO 0 DE LA SEGUNDA\n",
        "Temperatura_lista[2][0]"
      ],
      "metadata": {
        "colab": {
          "base_uri": "https://localhost:8080/",
          "height": 36
        },
        "id": "lz7K9-tiSalb",
        "outputId": "68705fe5-53a9-401e-ea94-4a17026a1ec4"
      },
      "execution_count": null,
      "outputs": [
        {
          "output_type": "execute_result",
          "data": {
            "text/plain": [
              "'Peru'"
            ],
            "application/vnd.google.colaboratory.intrinsic+json": {
              "type": "string"
            }
          },
          "metadata": {},
          "execution_count": 15
        }
      ]
    },
    {
      "cell_type": "code",
      "source": [
        "#EXTRAE EL SEGUNDO ELEMENTO DE LA PRIMERA LISTA\n",
        "Temperatura_lista[2]"
      ],
      "metadata": {
        "colab": {
          "base_uri": "https://localhost:8080/"
        },
        "id": "qjXIEqAvSgkq",
        "outputId": "be2b015a-3e11-443f-d776-caa7d4f8e570"
      },
      "execution_count": null,
      "outputs": [
        {
          "output_type": "execute_result",
          "data": {
            "text/plain": [
              "['Peru', 23]"
            ]
          },
          "metadata": {},
          "execution_count": 16
        }
      ]
    },
    {
      "cell_type": "code",
      "source": [
        "#LISTA DE LISTA DE LISTA\n",
        "Temperatura_lista = [[\"Brazil\",25],[\"Mexico\",[21,23,25]],[\"Peru\",23]]"
      ],
      "metadata": {
        "id": "wk-rv1OPTCMG"
      },
      "execution_count": null,
      "outputs": []
    },
    {
      "cell_type": "code",
      "source": [
        "#EXTRAE EL ELEMENTO 1 DE LA PRIMERA LISTA LUEGO EL ELEMENTO 1 DE LA SEGUNDA LISTA Y POR ULTIMO EL ELEMENTO 0 DE LA TERCERA LISTA\n",
        "Temperatura_lista[1][1][0]"
      ],
      "metadata": {
        "colab": {
          "base_uri": "https://localhost:8080/"
        },
        "id": "Ckr39GB4To0F",
        "outputId": "7e3f7683-4b02-474d-87b7-cb6c4680e7e1"
      },
      "execution_count": null,
      "outputs": [
        {
          "output_type": "execute_result",
          "data": {
            "text/plain": [
              "21"
            ]
          },
          "metadata": {},
          "execution_count": 19
        }
      ]
    },
    {
      "cell_type": "markdown",
      "source": [
        "##PARTICIONES"
      ],
      "metadata": {
        "id": "0Ad-Gew6WnAl"
      }
    },
    {
      "cell_type": "code",
      "source": [
        "Temperaturas_nombres"
      ],
      "metadata": {
        "colab": {
          "base_uri": "https://localhost:8080/"
        },
        "id": "W9Mmj1d8S5RU",
        "outputId": "88847429-5ca8-447b-da7e-43294c40efbb"
      },
      "execution_count": null,
      "outputs": [
        {
          "output_type": "execute_result",
          "data": {
            "text/plain": [
              "['Brazil', 23, 'Mexico', 21, 'Peru', 23]"
            ]
          },
          "metadata": {},
          "execution_count": 20
        }
      ]
    },
    {
      "cell_type": "code",
      "source": [
        "#MUESTRA LOS ELEMENTOS DESDE EL PRIMER VALOR HASTA EL 3-1\n",
        "Temperaturas_nombres[:3]"
      ],
      "metadata": {
        "colab": {
          "base_uri": "https://localhost:8080/"
        },
        "id": "-aRNuw3eWsM7",
        "outputId": "64f8c0f3-f615-4c38-9a76-2d6ac611642c"
      },
      "execution_count": null,
      "outputs": [
        {
          "output_type": "execute_result",
          "data": {
            "text/plain": [
              "['Brazil', 23, 'Mexico']"
            ]
          },
          "metadata": {},
          "execution_count": 21
        }
      ]
    },
    {
      "cell_type": "code",
      "source": [
        "#MUESTRA LOS ELEMENTOS DESDE EL SEGUNDO VALOR HASTA EL ULTIMO\n",
        "Temperaturas_nombres[2:]"
      ],
      "metadata": {
        "colab": {
          "base_uri": "https://localhost:8080/"
        },
        "id": "VCz-WDpsXBFm",
        "outputId": "96dc3845-eb89-45b9-b329-54bdeade5537"
      },
      "execution_count": null,
      "outputs": [
        {
          "output_type": "execute_result",
          "data": {
            "text/plain": [
              "['Mexico', 21, 'Peru', 23]"
            ]
          },
          "metadata": {},
          "execution_count": 23
        }
      ]
    },
    {
      "cell_type": "markdown",
      "source": [
        "##MODIFICAR ELEMENTOS DE UNA LISTA"
      ],
      "metadata": {
        "id": "kVEAMo0AXP6-"
      }
    },
    {
      "cell_type": "code",
      "source": [
        "Temperaturas_nombres"
      ],
      "metadata": {
        "colab": {
          "base_uri": "https://localhost:8080/"
        },
        "id": "KLzM0R87XKYj",
        "outputId": "75c11cc2-dd65-4aac-b425-5c4b780b3123"
      },
      "execution_count": null,
      "outputs": [
        {
          "output_type": "execute_result",
          "data": {
            "text/plain": [
              "['Brazil', 23, 'Mexico', 21, 'Peru', 23]"
            ]
          },
          "metadata": {},
          "execution_count": 25
        }
      ]
    },
    {
      "cell_type": "code",
      "source": [
        "#ACTUALIZAR ALGUN VALOR\n",
        "Temperaturas_nombres[1]=27\n",
        "Temperaturas_nombres"
      ],
      "metadata": {
        "colab": {
          "base_uri": "https://localhost:8080/"
        },
        "id": "dbCpr8HoXazh",
        "outputId": "8d0a40fa-166f-43a5-d8a4-203bcb6eceab"
      },
      "execution_count": null,
      "outputs": [
        {
          "output_type": "execute_result",
          "data": {
            "text/plain": [
              "['Brazil', 27, 'Mexico', 21, 'Peru', 23]"
            ]
          },
          "metadata": {},
          "execution_count": 27
        }
      ]
    },
    {
      "cell_type": "code",
      "source": [
        "#MODIFICAR PARTICIONES DE LAS LISTAS DESDE EL INDICE 0 AL 2\n",
        "Temperaturas_nombres[0:2] = [\"Colombia\",18]\n",
        "Temperaturas_nombres"
      ],
      "metadata": {
        "colab": {
          "base_uri": "https://localhost:8080/"
        },
        "id": "C-H7CraKXXi3",
        "outputId": "5805a428-67b1-4656-944b-adeff84681a6"
      },
      "execution_count": null,
      "outputs": [
        {
          "output_type": "execute_result",
          "data": {
            "text/plain": [
              "['Colombia', 18, 'Mexico', 21, 'Peru', 23]"
            ]
          },
          "metadata": {},
          "execution_count": 29
        }
      ]
    },
    {
      "cell_type": "markdown",
      "source": [
        "## AGREGAR ELEMENTOS DE UNA LISTA"
      ],
      "metadata": {
        "id": "YI5H2qOYYIoa"
      }
    },
    {
      "cell_type": "code",
      "source": [
        "Temperatura_Ecuador = 19"
      ],
      "metadata": {
        "id": "VyhZP1e4X8n4"
      },
      "execution_count": null,
      "outputs": []
    },
    {
      "cell_type": "code",
      "source": [
        "#AGREGAR UN VALOR A LA LISTA\n",
        "Temperaturas_nombres + [Temperatura_Ecuador]"
      ],
      "metadata": {
        "colab": {
          "base_uri": "https://localhost:8080/"
        },
        "id": "zhLJLFTaYROl",
        "outputId": "9ea81d5c-528c-4cfb-998f-d426cf47334e"
      },
      "execution_count": null,
      "outputs": [
        {
          "output_type": "execute_result",
          "data": {
            "text/plain": [
              "['Colombia', 18, 'Mexico', 21, 'Peru', 23, 19]"
            ]
          },
          "metadata": {},
          "execution_count": 32
        }
      ]
    },
    {
      "cell_type": "code",
      "source": [
        "#AGREGAR UNA PALABRA A LA LISTA\n",
        "Temperaturas_nombres + [\"Ecuador\",Temperatura_Ecuador]"
      ],
      "metadata": {
        "colab": {
          "base_uri": "https://localhost:8080/"
        },
        "id": "wc7WTVzYYhIl",
        "outputId": "c659ae32-7aa4-4f54-d6c3-1fceb39cc83b"
      },
      "execution_count": null,
      "outputs": [
        {
          "output_type": "execute_result",
          "data": {
            "text/plain": [
              "['Colombia', 18, 'Mexico', 21, 'Peru', 23, 'Ecuador', 19]"
            ]
          },
          "metadata": {},
          "execution_count": 34
        }
      ]
    },
    {
      "cell_type": "code",
      "source": [
        "#DIMENSION DE UNA LISTA\n",
        "len(Temperaturas_nombres)"
      ],
      "metadata": {
        "colab": {
          "base_uri": "https://localhost:8080/"
        },
        "id": "7JTKZUSSYukP",
        "outputId": "fd357d88-0de0-4f8b-b05a-2804b3d0e21b"
      },
      "execution_count": null,
      "outputs": [
        {
          "output_type": "execute_result",
          "data": {
            "text/plain": [
              "6"
            ]
          },
          "metadata": {},
          "execution_count": 35
        }
      ]
    },
    {
      "cell_type": "code",
      "source": [
        "#ACTUALIZAR UNA LISTA AGREGANDO VALORES\n",
        "Temperaturas_nombres = Temperaturas_nombres + [\"Ecuador\",Temperatura_Ecuador]\n",
        "Temperaturas_nombres"
      ],
      "metadata": {
        "colab": {
          "base_uri": "https://localhost:8080/"
        },
        "id": "_kXG2KJ8ZBZV",
        "outputId": "2d5922aa-6db6-4c38-fa3b-aec1ff3766e6"
      },
      "execution_count": null,
      "outputs": [
        {
          "output_type": "execute_result",
          "data": {
            "text/plain": [
              "['Colombia', 18, 'Mexico', 21, 'Peru', 23, 'Ecuador', 19]"
            ]
          },
          "metadata": {},
          "execution_count": 46
        }
      ]
    },
    {
      "cell_type": "markdown",
      "source": [
        "##ELIMINAR ELEMENTOS DE UNA LISTA"
      ],
      "metadata": {
        "id": "0Xm3CXQoZRLY"
      }
    },
    {
      "cell_type": "code",
      "source": [
        "#ELIMINAR ELEMENTO DE UNA LISTA EN LA POSICION 7\n",
        "del(Temperaturas_nombres[7])\n",
        "Temperaturas_nombres"
      ],
      "metadata": {
        "colab": {
          "base_uri": "https://localhost:8080/"
        },
        "id": "eMlNS7JKZOfY",
        "outputId": "9ed3afd5-1f91-4b9f-92b0-0e9b56040cb3"
      },
      "execution_count": null,
      "outputs": [
        {
          "output_type": "execute_result",
          "data": {
            "text/plain": [
              "['Colombia', 18, 'Mexico', 21, 'Peru', 23, 'Ecuador']"
            ]
          },
          "metadata": {},
          "execution_count": 47
        }
      ]
    },
    {
      "cell_type": "code",
      "source": [
        "#ELIMINAR ELEMENTO DE UNA LISTA EN LA POSICION 6\n",
        "del(Temperaturas_nombres[6])\n",
        "Temperaturas_nombres"
      ],
      "metadata": {
        "colab": {
          "base_uri": "https://localhost:8080/"
        },
        "id": "shgE3AJ9Z8QG",
        "outputId": "a8c968c3-467e-4c11-92db-a034779be7b9"
      },
      "execution_count": null,
      "outputs": [
        {
          "output_type": "execute_result",
          "data": {
            "text/plain": [
              "['Colombia', 18, 'Mexico', 21, 'Peru', 23]"
            ]
          },
          "metadata": {},
          "execution_count": 48
        }
      ]
    },
    {
      "cell_type": "markdown",
      "source": [
        "##COPIAR LISTAS"
      ],
      "metadata": {
        "id": "z5o8HKL7aOdn"
      }
    },
    {
      "cell_type": "code",
      "source": [
        "#REALIZAR UNA COPIA DE MANERA CORRECTA\n",
        "Temperatura_Copia = Temperaturas_nombres [:]\n",
        "Temperatura_Copia"
      ],
      "metadata": {
        "colab": {
          "base_uri": "https://localhost:8080/"
        },
        "id": "zOnLukcdaFVJ",
        "outputId": "57edd934-6a6e-41fd-ce61-b01269da807e"
      },
      "execution_count": null,
      "outputs": [
        {
          "output_type": "execute_result",
          "data": {
            "text/plain": [
              "['Colombia', 18, 'Mexico', 21, 'Peru', 23]"
            ]
          },
          "metadata": {},
          "execution_count": 52
        }
      ]
    },
    {
      "cell_type": "code",
      "source": [
        "#REALIZAR UNA COPIA DE MANERA CORRECTA DE OTRA MANERA\n",
        "Temperatura_Copia = list(Temperaturas_nombres)\n",
        "Temperatura_Copia"
      ],
      "metadata": {
        "colab": {
          "base_uri": "https://localhost:8080/"
        },
        "id": "176Y1L2Aaqmd",
        "outputId": "13c7edfd-87b2-49b6-946e-f206af560049"
      },
      "execution_count": null,
      "outputs": [
        {
          "output_type": "execute_result",
          "data": {
            "text/plain": [
              "['Colombia', 18, 'Mexico', 21, 'Peru', 23]"
            ]
          },
          "metadata": {},
          "execution_count": 53
        }
      ]
    },
    {
      "cell_type": "markdown",
      "source": [
        "#DICCIONARIOS"
      ],
      "metadata": {
        "id": "09m8W3t-bSfy"
      }
    },
    {
      "cell_type": "markdown",
      "source": [
        "##CREACION DE DICCIONARIOS"
      ],
      "metadata": {
        "id": "Hn6aTifDbdsT"
      }
    },
    {
      "cell_type": "code",
      "source": [
        "#EL PRIMER ELEMENTO ES EL INDICE Y EL SEGUNDO ES EL VALOR\n",
        "\n",
        "dicc_temp = {\n",
        "    \"Brazil\": 25,\n",
        "    \"Mexico\": 21,\n",
        "    \"Peru\" : 23,\n",
        "    \"Ecuador\" : 19\n",
        "}"
      ],
      "metadata": {
        "id": "MIh0TJYDbazt"
      },
      "execution_count": null,
      "outputs": []
    },
    {
      "cell_type": "code",
      "source": [
        "dicc_temp"
      ],
      "metadata": {
        "colab": {
          "base_uri": "https://localhost:8080/"
        },
        "id": "t6-9henjcSNg",
        "outputId": "402d1705-fb01-4971-f59a-ede81fe48bda"
      },
      "execution_count": null,
      "outputs": [
        {
          "output_type": "execute_result",
          "data": {
            "text/plain": [
              "{'Brazil': 25, 'Mexico': 21, 'Peru': 23, 'Ecuador': 19}"
            ]
          },
          "metadata": {},
          "execution_count": 55
        }
      ]
    },
    {
      "cell_type": "code",
      "source": [
        "dicc_temp1 = {\n",
        "    \"Brazil\": 25,\n",
        "    \"Mexico\": [21,23,24,18,22,20,18],\n",
        "    \"Peru\" : \"Lima\",\n",
        "    \"Ecuador\" : 19\n",
        "}"
      ],
      "metadata": {
        "id": "XQIpySQocTvz"
      },
      "execution_count": null,
      "outputs": []
    },
    {
      "cell_type": "code",
      "source": [
        "dicc_temp1"
      ],
      "metadata": {
        "colab": {
          "base_uri": "https://localhost:8080/"
        },
        "id": "sV1YuyBScolj",
        "outputId": "89994ca4-57e1-47ca-c73c-0ca4a01845cf"
      },
      "execution_count": null,
      "outputs": [
        {
          "output_type": "execute_result",
          "data": {
            "text/plain": [
              "{'Brazil': 25,\n",
              " 'Mexico': [21, 23, 24, 18, 22, 20, 18],\n",
              " 'Peru': 'Lima',\n",
              " 'Ecuador': 19}"
            ]
          },
          "metadata": {},
          "execution_count": 57
        }
      ]
    },
    {
      "cell_type": "code",
      "source": [
        "#BUSCAR VALORES\n",
        "dicc_temp[\"Mexico\"]"
      ],
      "metadata": {
        "colab": {
          "base_uri": "https://localhost:8080/"
        },
        "id": "9gMnVtgfcxr8",
        "outputId": "569faef7-7f9b-4ae3-a060-814bc7e88ef5"
      },
      "execution_count": null,
      "outputs": [
        {
          "output_type": "execute_result",
          "data": {
            "text/plain": [
              "21"
            ]
          },
          "metadata": {},
          "execution_count": 63
        }
      ]
    },
    {
      "cell_type": "code",
      "source": [
        "dicc_temp1[\"Mexico\"]"
      ],
      "metadata": {
        "colab": {
          "base_uri": "https://localhost:8080/"
        },
        "id": "qE0Hso-rdCAc",
        "outputId": "1ba56496-d439-40ab-d672-23b321489bcb"
      },
      "execution_count": null,
      "outputs": [
        {
          "output_type": "execute_result",
          "data": {
            "text/plain": [
              "[21, 23, 24, 18, 22, 20, 18]"
            ]
          },
          "metadata": {},
          "execution_count": 68
        }
      ]
    },
    {
      "cell_type": "markdown",
      "source": [
        "##AGREGAR ELEMENTOS AL DICCIONARIO"
      ],
      "metadata": {
        "id": "WBu1RNPPdpla"
      }
    },
    {
      "cell_type": "code",
      "source": [
        "dicc_temp[\"Colombia\"]=17\n",
        "dicc_temp"
      ],
      "metadata": {
        "colab": {
          "base_uri": "https://localhost:8080/"
        },
        "id": "4zNBvZX_di4b",
        "outputId": "001db8f7-ffb1-428c-c7c2-61e537b13cbc"
      },
      "execution_count": null,
      "outputs": [
        {
          "output_type": "execute_result",
          "data": {
            "text/plain": [
              "{'Brazil': 25, 'Mexico': 21, 'Peru': 23, 'Ecuador': 19, 'Colombia': 17}"
            ]
          },
          "metadata": {},
          "execution_count": 70
        }
      ]
    },
    {
      "cell_type": "code",
      "source": [
        "dicc_temp [\"Colombia\"]"
      ],
      "metadata": {
        "colab": {
          "base_uri": "https://localhost:8080/"
        },
        "id": "egH4dHnId98r",
        "outputId": "77a686bd-12a1-434b-9501-8dcdfad7d224"
      },
      "execution_count": null,
      "outputs": [
        {
          "output_type": "execute_result",
          "data": {
            "text/plain": [
              "17"
            ]
          },
          "metadata": {},
          "execution_count": 71
        }
      ]
    },
    {
      "cell_type": "markdown",
      "source": [
        "##ELIMINAR UN ELEMENTO DEL DICCIONARIO"
      ],
      "metadata": {
        "id": "7J93iT5eeKbH"
      }
    },
    {
      "cell_type": "code",
      "source": [
        "del dicc_temp[\"Ecuador\"]\n",
        "dicc_temp"
      ],
      "metadata": {
        "colab": {
          "base_uri": "https://localhost:8080/"
        },
        "id": "kmUgpIt_eHnR",
        "outputId": "a25de1d8-e2e5-43ff-8f1a-8053a8446355"
      },
      "execution_count": null,
      "outputs": [
        {
          "output_type": "execute_result",
          "data": {
            "text/plain": [
              "{'Brazil': 25, 'Mexico': 21, 'Peru': 23, 'Colombia': 17}"
            ]
          },
          "metadata": {},
          "execution_count": 77
        }
      ]
    },
    {
      "cell_type": "markdown",
      "source": [
        "## EVALUAR SI UN ELEMENTO ESTA EN EL DICCIONARIO"
      ],
      "metadata": {
        "id": "JfdphUe9ewPq"
      }
    },
    {
      "cell_type": "code",
      "source": [
        "\"Ecuador\" in dicc_temp"
      ],
      "metadata": {
        "colab": {
          "base_uri": "https://localhost:8080/"
        },
        "id": "xYMbDY5Uepyi",
        "outputId": "341d76e6-00e9-410d-d001-e2831f0b3b3c"
      },
      "execution_count": null,
      "outputs": [
        {
          "output_type": "execute_result",
          "data": {
            "text/plain": [
              "False"
            ]
          },
          "metadata": {},
          "execution_count": 78
        }
      ]
    },
    {
      "cell_type": "code",
      "source": [
        "\"Mexico\" in dicc_temp"
      ],
      "metadata": {
        "colab": {
          "base_uri": "https://localhost:8080/"
        },
        "id": "eRjOsOqhe5AN",
        "outputId": "4f3756cb-f390-48b0-ece6-8c04af07549e"
      },
      "execution_count": null,
      "outputs": [
        {
          "output_type": "execute_result",
          "data": {
            "text/plain": [
              "True"
            ]
          },
          "metadata": {},
          "execution_count": 79
        }
      ]
    },
    {
      "cell_type": "markdown",
      "source": [
        "## REVISAR LAS KEYS Y VALUES"
      ],
      "metadata": {
        "id": "pkvqxGu7fQ4P"
      }
    },
    {
      "cell_type": "code",
      "source": [
        "dicc_temp.keys()"
      ],
      "metadata": {
        "colab": {
          "base_uri": "https://localhost:8080/"
        },
        "id": "RBTjXjhRe9g4",
        "outputId": "2680df3a-dcd0-465f-d7bb-f8dd74cf11ab"
      },
      "execution_count": null,
      "outputs": [
        {
          "output_type": "execute_result",
          "data": {
            "text/plain": [
              "dict_keys(['Brazil', 'Mexico', 'Peru', 'Colombia'])"
            ]
          },
          "metadata": {},
          "execution_count": 80
        }
      ]
    },
    {
      "cell_type": "code",
      "source": [
        "list(dicc_temp.keys())"
      ],
      "metadata": {
        "colab": {
          "base_uri": "https://localhost:8080/"
        },
        "id": "tGa-r8SKfZ6a",
        "outputId": "0aa7c2d7-a9bb-44a0-ac13-b724337db589"
      },
      "execution_count": null,
      "outputs": [
        {
          "output_type": "execute_result",
          "data": {
            "text/plain": [
              "['Brazil', 'Mexico', 'Peru', 'Colombia']"
            ]
          },
          "metadata": {},
          "execution_count": 84
        }
      ]
    },
    {
      "cell_type": "code",
      "source": [
        "dicc_temp.values()"
      ],
      "metadata": {
        "colab": {
          "base_uri": "https://localhost:8080/"
        },
        "id": "SQSgdvOUflb-",
        "outputId": "aae31cb2-9399-4c0d-beb6-6d1cd14aba98"
      },
      "execution_count": null,
      "outputs": [
        {
          "output_type": "execute_result",
          "data": {
            "text/plain": [
              "dict_values([25, 21, 23, 17])"
            ]
          },
          "metadata": {},
          "execution_count": 85
        }
      ]
    },
    {
      "cell_type": "code",
      "source": [
        "list(dicc_temp.values())"
      ],
      "metadata": {
        "colab": {
          "base_uri": "https://localhost:8080/"
        },
        "id": "zYTmyAjzf4fr",
        "outputId": "e6115773-ae3d-4660-c7ad-2307423b09c1"
      },
      "execution_count": null,
      "outputs": [
        {
          "output_type": "execute_result",
          "data": {
            "text/plain": [
              "[25, 21, 23, 17]"
            ]
          },
          "metadata": {},
          "execution_count": 86
        }
      ]
    }
  ]
}