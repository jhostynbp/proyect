{
  "nbformat": 4,
  "nbformat_minor": 0,
  "metadata": {
    "colab": {
      "provenance": [],
      "mount_file_id": "1y__qCo79WzwrrLQ_vEY2n8Je7GbhP9bO",
      "authorship_tag": "ABX9TyPTuhuFhSOSdzoDO7ldjOGH",
      "include_colab_link": true
    },
    "kernelspec": {
      "name": "python3",
      "display_name": "Python 3"
    },
    "language_info": {
      "name": "python"
    }
  },
  "cells": [
    {
      "cell_type": "markdown",
      "metadata": {
        "id": "view-in-github",
        "colab_type": "text"
      },
      "source": [
        "<a href=\"https://colab.research.google.com/github/jhostynbp/proyect/blob/master/Proceso_de_ETL.ipynb\" target=\"_parent\"><img src=\"https://colab.research.google.com/assets/colab-badge.svg\" alt=\"Open In Colab\"/></a>"
      ]
    },
    {
      "cell_type": "markdown",
      "source": [
        "# **PROCESO DE ETL**"
      ],
      "metadata": {
        "id": "p64j6YlxPLaN"
      }
    },
    {
      "cell_type": "code",
      "source": [
        "!pip install pyspark"
      ],
      "metadata": {
        "colab": {
          "base_uri": "https://localhost:8080/"
        },
        "id": "R0rYcZO5PQVK",
        "outputId": "0ad87853-9001-437b-afba-fe32629b9392"
      },
      "execution_count": null,
      "outputs": [
        {
          "output_type": "stream",
          "name": "stdout",
          "text": [
            "Requirement already satisfied: pyspark in /usr/local/lib/python3.10/dist-packages (3.5.0)\n",
            "Requirement already satisfied: py4j==0.10.9.7 in /usr/local/lib/python3.10/dist-packages (from pyspark) (0.10.9.7)\n"
          ]
        }
      ]
    },
    {
      "cell_type": "markdown",
      "source": [
        "# **CREAR SESION DE SPARK**"
      ],
      "metadata": {
        "id": "KNk4fi87Qe40"
      }
    },
    {
      "cell_type": "markdown",
      "source": [
        "**SparkSession** nos permite crear una entrada de programacion para poder manejar dataset y dataframe\n",
        "\n",
        "**SparkContext** nos permite crear una conexion que va a ser utilizado para crear una RDD\n"
      ],
      "metadata": {
        "id": "wgeEVHQrRvGb"
      }
    },
    {
      "cell_type": "code",
      "source": [
        "from pyspark.sql import SparkSession\n",
        "from pyspark import SparkContext\n",
        "\n",
        "spSession = SparkSession \\\n",
        "          .builder \\\n",
        "          .appName(\"Demo Spark\") \\\n",
        "          .getOrCreate()\n"
      ],
      "metadata": {
        "id": "h4mEYMOWQWkK"
      },
      "execution_count": null,
      "outputs": []
    },
    {
      "cell_type": "code",
      "source": [
        "SpContext = spSession.sparkContext"
      ],
      "metadata": {
        "id": "hDNE3w6sTLp2"
      },
      "execution_count": null,
      "outputs": []
    },
    {
      "cell_type": "markdown",
      "source": [
        "# CARGA DE **DATO**"
      ],
      "metadata": {
        "id": "GzjWsgYeT2tV"
      }
    },
    {
      "cell_type": "code",
      "source": [
        "#entrar al repositorio\n",
        "path = \"/content/drive/MyDrive/PruebasPy/\""
      ],
      "metadata": {
        "id": "4KhRgtoel393"
      },
      "execution_count": null,
      "outputs": []
    },
    {
      "cell_type": "code",
      "source": [
        "data = spSession.read.csv(path +'cars.csv', header = True , sep =\";\")\n",
        "data.show(5)"
      ],
      "metadata": {
        "colab": {
          "base_uri": "https://localhost:8080/"
        },
        "id": "w4AqmLg_TzoT",
        "outputId": "8a52c683-9277-417e-c9b3-569689ffde88"
      },
      "execution_count": null,
      "outputs": [
        {
          "output_type": "stream",
          "name": "stdout",
          "text": [
            "+--------------------+------+---------+------------+----------+------+------------+-----+------+\n",
            "|                 Car|   MPG|Cylinders|Displacement|Horsepower|Weight|Acceleration|Model|Origin|\n",
            "+--------------------+------+---------+------------+----------+------+------------+-----+------+\n",
            "|              STRING|DOUBLE|      INT|      DOUBLE|    DOUBLE|DOUBLE|      DOUBLE|  INT|   CAT|\n",
            "|Chevrolet Chevell...|  18.0|        8|       307.0|     130.0| 3504.|        12.0|   70|    US|\n",
            "|   Buick Skylark 320|  15.0|        8|       350.0|     165.0| 3693.|        11.5|   70|    US|\n",
            "|  Plymouth Satellite|  18.0|        8|       318.0|     150.0| 3436.|        11.0|   70|    US|\n",
            "|       AMC Rebel SST|  16.0|        8|       304.0|     150.0| 3433.|        12.0|   70|    US|\n",
            "+--------------------+------+---------+------------+----------+------+------------+-----+------+\n",
            "only showing top 5 rows\n",
            "\n"
          ]
        }
      ]
    },
    {
      "cell_type": "markdown",
      "source": [
        "# **CONOCIENDO LA DATA**"
      ],
      "metadata": {
        "id": "Nm2EQ96QUoyV"
      }
    },
    {
      "cell_type": "code",
      "source": [
        "data.printSchema()"
      ],
      "metadata": {
        "colab": {
          "base_uri": "https://localhost:8080/"
        },
        "id": "76ybd-ORUf4l",
        "outputId": "baf2ef2f-8957-4fac-d9ba-77e009b97620"
      },
      "execution_count": null,
      "outputs": [
        {
          "output_type": "stream",
          "name": "stdout",
          "text": [
            "root\n",
            " |-- Car: string (nullable = true)\n",
            " |-- MPG: string (nullable = true)\n",
            " |-- Cylinders: string (nullable = true)\n",
            " |-- Displacement: string (nullable = true)\n",
            " |-- Horsepower: string (nullable = true)\n",
            " |-- Weight: string (nullable = true)\n",
            " |-- Acceleration: string (nullable = true)\n",
            " |-- Model: string (nullable = true)\n",
            " |-- Origin: string (nullable = true)\n",
            "\n"
          ]
        }
      ]
    },
    {
      "cell_type": "code",
      "source": [
        "data.columns"
      ],
      "metadata": {
        "colab": {
          "base_uri": "https://localhost:8080/"
        },
        "id": "DxC7KegAUyDs",
        "outputId": "5753decf-d35b-4e29-ca37-74b9ee337667"
      },
      "execution_count": null,
      "outputs": [
        {
          "output_type": "execute_result",
          "data": {
            "text/plain": [
              "['Car',\n",
              " 'MPG',\n",
              " 'Cylinders',\n",
              " 'Displacement',\n",
              " 'Horsepower',\n",
              " 'Weight',\n",
              " 'Acceleration',\n",
              " 'Model',\n",
              " 'Origin']"
            ]
          },
          "metadata": {},
          "execution_count": 10
        }
      ]
    },
    {
      "cell_type": "code",
      "source": [
        "data.dtypes"
      ],
      "metadata": {
        "colab": {
          "base_uri": "https://localhost:8080/"
        },
        "id": "Vk1etV0FU4-L",
        "outputId": "2ef07958-5000-4377-894d-d4ce6499eeb6"
      },
      "execution_count": null,
      "outputs": [
        {
          "output_type": "execute_result",
          "data": {
            "text/plain": [
              "[('Car', 'string'),\n",
              " ('MPG', 'string'),\n",
              " ('Cylinders', 'string'),\n",
              " ('Displacement', 'string'),\n",
              " ('Horsepower', 'string'),\n",
              " ('Weight', 'string'),\n",
              " ('Acceleration', 'string'),\n",
              " ('Model', 'string'),\n",
              " ('Origin', 'string')]"
            ]
          },
          "metadata": {},
          "execution_count": 11
        }
      ]
    },
    {
      "cell_type": "markdown",
      "source": [
        "# **SELECCION DE COLUMNAS**"
      ],
      "metadata": {
        "id": "dGd2gu03VBT7"
      }
    },
    {
      "cell_type": "code",
      "source": [
        "#METODO 1\n",
        "\n",
        "#TRUNCATE NO CORTA LOS DATOS\n",
        "data.select(data.Car).show(truncate = False)"
      ],
      "metadata": {
        "colab": {
          "base_uri": "https://localhost:8080/"
        },
        "id": "oqnNc8hOVG3B",
        "outputId": "4eb192d6-392f-4d5a-f74f-e60b59faddc6"
      },
      "execution_count": null,
      "outputs": [
        {
          "output_type": "stream",
          "name": "stdout",
          "text": [
            "+--------------------------------+\n",
            "|Car                             |\n",
            "+--------------------------------+\n",
            "|STRING                          |\n",
            "|Chevrolet Chevelle Malibu       |\n",
            "|Buick Skylark 320               |\n",
            "|Plymouth Satellite              |\n",
            "|AMC Rebel SST                   |\n",
            "|Ford Torino                     |\n",
            "|Ford Galaxie 500                |\n",
            "|Chevrolet Impala                |\n",
            "|Plymouth Fury iii               |\n",
            "|Pontiac Catalina                |\n",
            "|AMC Ambassador DPL              |\n",
            "|Citroen DS-21 Pallas            |\n",
            "|Chevrolet Chevelle Concours (sw)|\n",
            "|Ford Torino (sw)                |\n",
            "|Plymouth Satellite (sw)         |\n",
            "|AMC Rebel SST (sw)              |\n",
            "|Dodge Challenger SE             |\n",
            "|Plymouth 'Cuda 340              |\n",
            "|Ford Mustang Boss 302           |\n",
            "|Chevrolet Monte Carlo           |\n",
            "+--------------------------------+\n",
            "only showing top 20 rows\n",
            "\n"
          ]
        }
      ]
    },
    {
      "cell_type": "code",
      "source": [
        "#METODO 2\n",
        "\n",
        "data.select(data['Car']).show(truncate = False)"
      ],
      "metadata": {
        "colab": {
          "base_uri": "https://localhost:8080/"
        },
        "id": "5OzxOmNdWBJs",
        "outputId": "167cb91a-105b-4e46-8e79-b1c2f491c5aa"
      },
      "execution_count": null,
      "outputs": [
        {
          "output_type": "stream",
          "name": "stdout",
          "text": [
            "+--------------------------------+\n",
            "|Car                             |\n",
            "+--------------------------------+\n",
            "|STRING                          |\n",
            "|Chevrolet Chevelle Malibu       |\n",
            "|Buick Skylark 320               |\n",
            "|Plymouth Satellite              |\n",
            "|AMC Rebel SST                   |\n",
            "|Ford Torino                     |\n",
            "|Ford Galaxie 500                |\n",
            "|Chevrolet Impala                |\n",
            "|Plymouth Fury iii               |\n",
            "|Pontiac Catalina                |\n",
            "|AMC Ambassador DPL              |\n",
            "|Citroen DS-21 Pallas            |\n",
            "|Chevrolet Chevelle Concours (sw)|\n",
            "|Ford Torino (sw)                |\n",
            "|Plymouth Satellite (sw)         |\n",
            "|AMC Rebel SST (sw)              |\n",
            "|Dodge Challenger SE             |\n",
            "|Plymouth 'Cuda 340              |\n",
            "|Ford Mustang Boss 302           |\n",
            "|Chevrolet Monte Carlo           |\n",
            "+--------------------------------+\n",
            "only showing top 20 rows\n",
            "\n"
          ]
        }
      ]
    },
    {
      "cell_type": "code",
      "source": [
        "#METODO 3\n",
        "\n",
        "#para utilizar el col\n",
        "from pyspark.sql.functions import col\n",
        "\n",
        "data.select(col('car')).show(truncate = False)"
      ],
      "metadata": {
        "colab": {
          "base_uri": "https://localhost:8080/"
        },
        "id": "IOmtwh6sWX32",
        "outputId": "2235f5d8-afc7-409e-95d7-9f8c4daa43be"
      },
      "execution_count": null,
      "outputs": [
        {
          "output_type": "stream",
          "name": "stdout",
          "text": [
            "+--------------------------------+\n",
            "|car                             |\n",
            "+--------------------------------+\n",
            "|STRING                          |\n",
            "|Chevrolet Chevelle Malibu       |\n",
            "|Buick Skylark 320               |\n",
            "|Plymouth Satellite              |\n",
            "|AMC Rebel SST                   |\n",
            "|Ford Torino                     |\n",
            "|Ford Galaxie 500                |\n",
            "|Chevrolet Impala                |\n",
            "|Plymouth Fury iii               |\n",
            "|Pontiac Catalina                |\n",
            "|AMC Ambassador DPL              |\n",
            "|Citroen DS-21 Pallas            |\n",
            "|Chevrolet Chevelle Concours (sw)|\n",
            "|Ford Torino (sw)                |\n",
            "|Plymouth Satellite (sw)         |\n",
            "|AMC Rebel SST (sw)              |\n",
            "|Dodge Challenger SE             |\n",
            "|Plymouth 'Cuda 340              |\n",
            "|Ford Mustang Boss 302           |\n",
            "|Chevrolet Monte Carlo           |\n",
            "+--------------------------------+\n",
            "only showing top 20 rows\n",
            "\n"
          ]
        }
      ]
    },
    {
      "cell_type": "markdown",
      "source": [
        "**seleccionar mas de una columna**"
      ],
      "metadata": {
        "id": "Td5A2DFyXBST"
      }
    },
    {
      "cell_type": "code",
      "source": [
        "#METODO 1 DE LA SELECCION MULTIPLE DE COLUMNA\n",
        "\n",
        "\n",
        "data.select(data['car'], data.Cylinders).show(truncate = False)"
      ],
      "metadata": {
        "colab": {
          "base_uri": "https://localhost:8080/"
        },
        "id": "VBwb8mLXXHvk",
        "outputId": "feb89ddf-0930-48cf-9bd9-9347f081c6ea"
      },
      "execution_count": null,
      "outputs": [
        {
          "output_type": "stream",
          "name": "stdout",
          "text": [
            "+--------------------------------+---------+\n",
            "|car                             |Cylinders|\n",
            "+--------------------------------+---------+\n",
            "|STRING                          |INT      |\n",
            "|Chevrolet Chevelle Malibu       |8        |\n",
            "|Buick Skylark 320               |8        |\n",
            "|Plymouth Satellite              |8        |\n",
            "|AMC Rebel SST                   |8        |\n",
            "|Ford Torino                     |8        |\n",
            "|Ford Galaxie 500                |8        |\n",
            "|Chevrolet Impala                |8        |\n",
            "|Plymouth Fury iii               |8        |\n",
            "|Pontiac Catalina                |8        |\n",
            "|AMC Ambassador DPL              |8        |\n",
            "|Citroen DS-21 Pallas            |4        |\n",
            "|Chevrolet Chevelle Concours (sw)|8        |\n",
            "|Ford Torino (sw)                |8        |\n",
            "|Plymouth Satellite (sw)         |8        |\n",
            "|AMC Rebel SST (sw)              |8        |\n",
            "|Dodge Challenger SE             |8        |\n",
            "|Plymouth 'Cuda 340              |8        |\n",
            "|Ford Mustang Boss 302           |8        |\n",
            "|Chevrolet Monte Carlo           |8        |\n",
            "+--------------------------------+---------+\n",
            "only showing top 20 rows\n",
            "\n"
          ]
        }
      ]
    },
    {
      "cell_type": "code",
      "source": [
        "#METODO 2 DE LA SELECCION MULTIPLE DE COLUMNA\n",
        "\n",
        "\n",
        "data.select(col('car'), col('Cylinders')).show(truncate = False)"
      ],
      "metadata": {
        "colab": {
          "base_uri": "https://localhost:8080/"
        },
        "id": "8t-k6LBDYNZj",
        "outputId": "02b64169-320b-476a-f54d-44249239629d"
      },
      "execution_count": null,
      "outputs": [
        {
          "output_type": "stream",
          "name": "stdout",
          "text": [
            "+--------------------------------+---------+\n",
            "|car                             |Cylinders|\n",
            "+--------------------------------+---------+\n",
            "|STRING                          |INT      |\n",
            "|Chevrolet Chevelle Malibu       |8        |\n",
            "|Buick Skylark 320               |8        |\n",
            "|Plymouth Satellite              |8        |\n",
            "|AMC Rebel SST                   |8        |\n",
            "|Ford Torino                     |8        |\n",
            "|Ford Galaxie 500                |8        |\n",
            "|Chevrolet Impala                |8        |\n",
            "|Plymouth Fury iii               |8        |\n",
            "|Pontiac Catalina                |8        |\n",
            "|AMC Ambassador DPL              |8        |\n",
            "|Citroen DS-21 Pallas            |4        |\n",
            "|Chevrolet Chevelle Concours (sw)|8        |\n",
            "|Ford Torino (sw)                |8        |\n",
            "|Plymouth Satellite (sw)         |8        |\n",
            "|AMC Rebel SST (sw)              |8        |\n",
            "|Dodge Challenger SE             |8        |\n",
            "|Plymouth 'Cuda 340              |8        |\n",
            "|Ford Mustang Boss 302           |8        |\n",
            "|Chevrolet Monte Carlo           |8        |\n",
            "+--------------------------------+---------+\n",
            "only showing top 20 rows\n",
            "\n"
          ]
        }
      ]
    },
    {
      "cell_type": "markdown",
      "source": [
        "# **AGREGAR NUEVAS COLUMNAS**"
      ],
      "metadata": {
        "id": "SsnI2fEqYxuB"
      }
    },
    {
      "cell_type": "code",
      "source": [
        "#CASO 1\n",
        "\n",
        "#NOS VA A AYUDAR PARA DARLE UN VALOR ESPECIFICO A LAS COLUMNAS\n",
        "from pyspark.sql.functions import lit\n",
        "\n",
        "df = data.withColumn('First_Column',lit(1))\n",
        "df.show(5,truncate = False)"
      ],
      "metadata": {
        "colab": {
          "base_uri": "https://localhost:8080/"
        },
        "id": "cY7zkOV4Y0xR",
        "outputId": "49ba6bf1-1909-49b2-8a41-22b190a8a56d"
      },
      "execution_count": null,
      "outputs": [
        {
          "output_type": "stream",
          "name": "stdout",
          "text": [
            "+-------------------------+------+---------+------------+----------+------+------------+-----+------+------------+\n",
            "|Car                      |MPG   |Cylinders|Displacement|Horsepower|Weight|Acceleration|Model|Origin|First_Column|\n",
            "+-------------------------+------+---------+------------+----------+------+------------+-----+------+------------+\n",
            "|STRING                   |DOUBLE|INT      |DOUBLE      |DOUBLE    |DOUBLE|DOUBLE      |INT  |CAT   |1           |\n",
            "|Chevrolet Chevelle Malibu|18.0  |8        |307.0       |130.0     |3504. |12.0        |70   |US    |1           |\n",
            "|Buick Skylark 320        |15.0  |8        |350.0       |165.0     |3693. |11.5        |70   |US    |1           |\n",
            "|Plymouth Satellite       |18.0  |8        |318.0       |150.0     |3436. |11.0        |70   |US    |1           |\n",
            "|AMC Rebel SST            |16.0  |8        |304.0       |150.0     |3433. |12.0        |70   |US    |1           |\n",
            "+-------------------------+------+---------+------------+----------+------+------------+-----+------+------------+\n",
            "only showing top 5 rows\n",
            "\n"
          ]
        }
      ]
    },
    {
      "cell_type": "code",
      "source": [
        "#CASO 2 - GUARDAMOS 2 COLOUMNAS\n",
        "\n",
        "df = data.withColumn('Second_Column',lit(2)) \\\n",
        "          .withColumn('Third_Column', lit('Third Column'))\n",
        "df.show(5,truncate = False)"
      ],
      "metadata": {
        "colab": {
          "base_uri": "https://localhost:8080/"
        },
        "id": "CFfeMJwuaDPS",
        "outputId": "507fb997-e53e-403a-ca96-aff2b15328ca"
      },
      "execution_count": null,
      "outputs": [
        {
          "output_type": "stream",
          "name": "stdout",
          "text": [
            "+-------------------------+------+---------+------------+----------+------+------------+-----+------+-------------+------------+\n",
            "|Car                      |MPG   |Cylinders|Displacement|Horsepower|Weight|Acceleration|Model|Origin|Second_Column|Third_Column|\n",
            "+-------------------------+------+---------+------------+----------+------+------------+-----+------+-------------+------------+\n",
            "|STRING                   |DOUBLE|INT      |DOUBLE      |DOUBLE    |DOUBLE|DOUBLE      |INT  |CAT   |2            |Third Column|\n",
            "|Chevrolet Chevelle Malibu|18.0  |8        |307.0       |130.0     |3504. |12.0        |70   |US    |2            |Third Column|\n",
            "|Buick Skylark 320        |15.0  |8        |350.0       |165.0     |3693. |11.5        |70   |US    |2            |Third Column|\n",
            "|Plymouth Satellite       |18.0  |8        |318.0       |150.0     |3436. |11.0        |70   |US    |2            |Third Column|\n",
            "|AMC Rebel SST            |16.0  |8        |304.0       |150.0     |3433. |12.0        |70   |US    |2            |Third Column|\n",
            "+-------------------------+------+---------+------------+----------+------+------------+-----+------+-------------+------------+\n",
            "only showing top 5 rows\n",
            "\n"
          ]
        }
      ]
    },
    {
      "cell_type": "markdown",
      "source": [
        "# **AGRUPACION POR COLUMNAS**"
      ],
      "metadata": {
        "id": "GBS9VbmxawZd"
      }
    },
    {
      "cell_type": "code",
      "source": [
        "df.groupBy('Origin').count().show(5,truncate = False)"
      ],
      "metadata": {
        "colab": {
          "base_uri": "https://localhost:8080/"
        },
        "id": "hS1Gzkeda0L0",
        "outputId": "bb46c083-fc27-44de-84f9-d34972172d3d"
      },
      "execution_count": null,
      "outputs": [
        {
          "output_type": "stream",
          "name": "stdout",
          "text": [
            "+------+-----+\n",
            "|Origin|count|\n",
            "+------+-----+\n",
            "|Europe|73   |\n",
            "|US    |254  |\n",
            "|CAT   |1    |\n",
            "|Japan |79   |\n",
            "+------+-----+\n",
            "\n"
          ]
        }
      ]
    },
    {
      "cell_type": "markdown",
      "source": [
        "**MULTIPLES COLUMNAS**\n",
        "\n"
      ],
      "metadata": {
        "id": "-xDZ99dZbSwI"
      }
    },
    {
      "cell_type": "code",
      "source": [
        "df.groupBy('Car','HorsePower','Origin').count().show(10,truncate = False)"
      ],
      "metadata": {
        "colab": {
          "base_uri": "https://localhost:8080/"
        },
        "id": "PEdnfUjxbWhS",
        "outputId": "ccbb5876-5e08-42ca-ece5-354090a7be54"
      },
      "execution_count": null,
      "outputs": [
        {
          "output_type": "stream",
          "name": "stdout",
          "text": [
            "+--------------------------+----------+------+-----+\n",
            "|Car                       |HorsePower|Origin|count|\n",
            "+--------------------------+----------+------+-----+\n",
            "|Ford Mustang Boss 302     |140.0     |US    |1    |\n",
            "|Oldsmobile Omega          |180.0     |US    |1    |\n",
            "|Ford Pinto                |0         |US    |1    |\n",
            "|AMC Gremlin               |100.0     |US    |3    |\n",
            "|Plymouth Valiant Custom   |95.00     |US    |1    |\n",
            "|Subaru DL                 |67.00     |Japan |2    |\n",
            "|Buick Skyhawk             |110.0     |US    |1    |\n",
            "|Pontiac J2000 SE Hatchback|85.00     |US    |1    |\n",
            "|Ford Mustang GL           |86.00     |US    |1    |\n",
            "|Toyota Corolla 1200       |65.00     |Japan |2    |\n",
            "+--------------------------+----------+------+-----+\n",
            "only showing top 10 rows\n",
            "\n"
          ]
        }
      ]
    },
    {
      "cell_type": "markdown",
      "source": [
        "# **ELIMINAR COLUMNAS**"
      ],
      "metadata": {
        "id": "jyw4pYrTb6La"
      }
    },
    {
      "cell_type": "code",
      "source": [
        "df"
      ],
      "metadata": {
        "colab": {
          "base_uri": "https://localhost:8080/"
        },
        "id": "A3NbywFecIzT",
        "outputId": "f9e50eae-d76e-4a57-c0c7-e0143a061199"
      },
      "execution_count": null,
      "outputs": [
        {
          "output_type": "execute_result",
          "data": {
            "text/plain": [
              "DataFrame[Car: string, MPG: string, Cylinders: string, Displacement: string, Horsepower: string, Weight: string, Acceleration: string, Model: string, Origin: string, Second_Column: int, Third_Column: string]"
            ]
          },
          "metadata": {},
          "execution_count": 21
        }
      ]
    },
    {
      "cell_type": "code",
      "source": [
        "df = df.drop('Second_Column','Third_Column')\n",
        "df.show(10)"
      ],
      "metadata": {
        "colab": {
          "base_uri": "https://localhost:8080/"
        },
        "id": "VZGjurElb8ve",
        "outputId": "877d0bb6-2ef9-4de2-f1a9-b523580f7dd7"
      },
      "execution_count": null,
      "outputs": [
        {
          "output_type": "stream",
          "name": "stdout",
          "text": [
            "+--------------------+------+---------+------------+----------+------+------------+-----+------+\n",
            "|                 Car|   MPG|Cylinders|Displacement|Horsepower|Weight|Acceleration|Model|Origin|\n",
            "+--------------------+------+---------+------------+----------+------+------------+-----+------+\n",
            "|              STRING|DOUBLE|      INT|      DOUBLE|    DOUBLE|DOUBLE|      DOUBLE|  INT|   CAT|\n",
            "|Chevrolet Chevell...|  18.0|        8|       307.0|     130.0| 3504.|        12.0|   70|    US|\n",
            "|   Buick Skylark 320|  15.0|        8|       350.0|     165.0| 3693.|        11.5|   70|    US|\n",
            "|  Plymouth Satellite|  18.0|        8|       318.0|     150.0| 3436.|        11.0|   70|    US|\n",
            "|       AMC Rebel SST|  16.0|        8|       304.0|     150.0| 3433.|        12.0|   70|    US|\n",
            "|         Ford Torino|  17.0|        8|       302.0|     140.0| 3449.|        10.5|   70|    US|\n",
            "|    Ford Galaxie 500|  15.0|        8|       429.0|     198.0| 4341.|        10.0|   70|    US|\n",
            "|    Chevrolet Impala|  14.0|        8|       454.0|     220.0| 4354.|         9.0|   70|    US|\n",
            "|   Plymouth Fury iii|  14.0|        8|       440.0|     215.0| 4312.|         8.5|   70|    US|\n",
            "|    Pontiac Catalina|  14.0|        8|       455.0|     225.0| 4425.|        10.0|   70|    US|\n",
            "+--------------------+------+---------+------------+----------+------+------------+-----+------+\n",
            "only showing top 10 rows\n",
            "\n"
          ]
        }
      ]
    },
    {
      "cell_type": "markdown",
      "source": [
        "# **ORDENAR FILAR**"
      ],
      "metadata": {
        "id": "dSZxFHxgcajq"
      }
    },
    {
      "cell_type": "code",
      "source": [
        "df.orderBy('Horsepower' , ascending= False ).show(truncate = False)"
      ],
      "metadata": {
        "colab": {
          "base_uri": "https://localhost:8080/"
        },
        "id": "i6JAMPsacctK",
        "outputId": "ec1e736c-68f1-4674-ca6c-82021c0d42aa"
      },
      "execution_count": null,
      "outputs": [
        {
          "output_type": "stream",
          "name": "stdout",
          "text": [
            "+---------------------------+------+---------+------------+----------+------+------------+-----+------+\n",
            "|Car                        |MPG   |Cylinders|Displacement|Horsepower|Weight|Acceleration|Model|Origin|\n",
            "+---------------------------+------+---------+------------+----------+------+------------+-----+------+\n",
            "|STRING                     |DOUBLE|INT      |DOUBLE      |DOUBLE    |DOUBLE|DOUBLE      |INT  |CAT   |\n",
            "|Volvo 244DL                |22.0  |4        |121.0       |98.00     |2945. |14.5        |75   |Europe|\n",
            "|Ford Grenada               |18.5  |6        |250.0       |98.00     |3525. |19.0        |77   |US    |\n",
            "|Toyota Corolla Mark II (sw)|23.0  |4        |120.0       |97.00     |2506. |14.5        |72   |Japan |\n",
            "|AMC Hornet                 |18.0  |6        |199.0       |97.00     |2774. |15.5        |70   |US    |\n",
            "|Mazda RX2 Coupe            |19.0  |3        |70.00       |97.00     |2330. |13.5        |72   |Japan |\n",
            "|Honda Civic                |24.0  |4        |120.0       |97.00     |2489. |15.0        |74   |Japan |\n",
            "|Datsun 710                 |24.0  |4        |119.0       |97.00     |2545. |17.0        |75   |Japan |\n",
            "|Ford Pinto                 |18.0  |6        |171.0       |97.00     |2984. |14.5        |75   |US    |\n",
            "|Datsun 810                 |22.0  |6        |146.0       |97.00     |2815. |14.5        |77   |Japan |\n",
            "|Datsun 510                 |27.2  |4        |119.0       |97.00     |2300. |14.7        |78   |Japan |\n",
            "|Datsun 200-SX              |23.9  |4        |119.0       |97.00     |2405. |14.9        |78   |Japan |\n",
            "|Toyota Corolla             |24.0  |4        |134.0       |96.00     |2702. |13.5        |75   |Japan |\n",
            "|Plymouth Arrow GS          |25.5  |4        |122.0       |96.00     |2300. |15.5        |77   |US    |\n",
            "|Toyota Celica GT           |32.0  |4        |144.0       |96.00     |2665. |13.9        |82   |Japan |\n",
            "|Toyota Corolla Mark ii     |24.0  |4        |113.0       |95.00     |2372. |15.0        |70   |Japan |\n",
            "|Plymouth Duster            |20.0  |6        |198.0       |95.00     |3102. |16.5        |74   |US    |\n",
            "|Plymouth Duster            |23.0  |6        |198.0       |95.00     |2904. |16.0        |73   |US    |\n",
            "|Saab 99e                   |25.0  |4        |104.0       |95.00     |2375. |17.5        |70   |Europe|\n",
            "|Plymouth Duster            |22.0  |6        |198.0       |95.00     |2833. |15.5        |70   |US    |\n",
            "+---------------------------+------+---------+------------+----------+------+------------+-----+------+\n",
            "only showing top 20 rows\n",
            "\n"
          ]
        }
      ]
    },
    {
      "cell_type": "markdown",
      "source": [
        "OPERACION DE **CONTEO**"
      ],
      "metadata": {
        "id": "H-_aMRUqdFvo"
      }
    },
    {
      "cell_type": "code",
      "source": [
        "df.groupBy('Origin').count().orderBy('count',ascending = False).show(10,truncate = False)"
      ],
      "metadata": {
        "colab": {
          "base_uri": "https://localhost:8080/"
        },
        "id": "SDjx55C4dHfu",
        "outputId": "d747fbc8-cf63-4c04-ee6d-82f1179bf35f"
      },
      "execution_count": null,
      "outputs": [
        {
          "output_type": "stream",
          "name": "stdout",
          "text": [
            "+------+-----+\n",
            "|Origin|count|\n",
            "+------+-----+\n",
            "|US    |254  |\n",
            "|Japan |79   |\n",
            "|Europe|73   |\n",
            "|CAT   |1    |\n",
            "+------+-----+\n",
            "\n"
          ]
        }
      ]
    },
    {
      "cell_type": "markdown",
      "source": [
        "# **FILTRADO DE DATOS**"
      ],
      "metadata": {
        "id": "uxKeMIcvmdPn"
      }
    },
    {
      "cell_type": "code",
      "source": [
        "#VISUALIZAR CUANTOS REGISTROS HAY\n",
        "\n",
        "total_count = df.count()\n",
        "print (\"Total de registros :\" , total_count)\n",
        "\n",
        "europa = df.filter(col('Origin') == \"Europe\").count()\n",
        "print (\"Total de registros en Europa:\" , europa)\n",
        "\n",
        "\n",
        "df.filter(col('Origin') == \"Europe\").show(truncate = False)\n"
      ],
      "metadata": {
        "colab": {
          "base_uri": "https://localhost:8080/"
        },
        "id": "K-A2kLpmmfXL",
        "outputId": "a27b7623-6fba-4c8d-dbc5-f8290548eda9"
      },
      "execution_count": null,
      "outputs": [
        {
          "output_type": "stream",
          "name": "stdout",
          "text": [
            "Total de registros : 407\n",
            "Total de registros en Europa: 73\n",
            "+----------------------------+----+---------+------------+----------+------+------------+-----+------+\n",
            "|Car                         |MPG |Cylinders|Displacement|Horsepower|Weight|Acceleration|Model|Origin|\n",
            "+----------------------------+----+---------+------------+----------+------+------------+-----+------+\n",
            "|Citroen DS-21 Pallas        |0   |4        |133.0       |115.0     |3090. |17.5        |70   |Europe|\n",
            "|Volkswagen 1131 Deluxe Sedan|26.0|4        |97.00       |46.00     |1835. |20.5        |70   |Europe|\n",
            "|Peugeot 504                 |25.0|4        |110.0       |87.00     |2672. |17.5        |70   |Europe|\n",
            "|Audi 100 LS                 |24.0|4        |107.0       |90.00     |2430. |14.5        |70   |Europe|\n",
            "|Saab 99e                    |25.0|4        |104.0       |95.00     |2375. |17.5        |70   |Europe|\n",
            "|BMW 2002                    |26.0|4        |121.0       |113.0     |2234. |12.5        |70   |Europe|\n",
            "|Volkswagen Super Beetle 117 |0   |4        |97.00       |48.00     |1978. |20.0        |71   |Europe|\n",
            "|Opel 1900                   |28.0|4        |116.0       |90.00     |2123. |14.0        |71   |Europe|\n",
            "|Peugeot 304                 |30.0|4        |79.00       |70.00     |2074. |19.5        |71   |Europe|\n",
            "|Fiat 124B                   |30.0|4        |88.00       |76.00     |2065. |14.5        |71   |Europe|\n",
            "|Volkswagen Model 111        |27.0|4        |97.00       |60.00     |1834. |19.0        |71   |Europe|\n",
            "|Volkswagen Type 3           |23.0|4        |97.00       |54.00     |2254. |23.5        |72   |Europe|\n",
            "|Volvo 145e (sw)             |18.0|4        |121.0       |112.0     |2933. |14.5        |72   |Europe|\n",
            "|Volkswagen 411 (sw)         |22.0|4        |121.0       |76.00     |2511. |18.0        |72   |Europe|\n",
            "|Peugeot 504 (sw)            |21.0|4        |120.0       |87.00     |2979. |19.5        |72   |Europe|\n",
            "|Renault 12 (sw)             |26.0|4        |96.00       |69.00     |2189. |18.0        |72   |Europe|\n",
            "|Volkswagen Super Beetle     |26.0|4        |97.00       |46.00     |1950. |21.0        |73   |Europe|\n",
            "|Fiat 124 Sport Coupe        |26.0|4        |98.00       |90.00     |2265. |15.5        |73   |Europe|\n",
            "|Fiat 128                    |29.0|4        |68.00       |49.00     |1867. |19.5        |73   |Europe|\n",
            "|Opel Manta                  |24.0|4        |116.0       |75.00     |2158. |15.5        |73   |Europe|\n",
            "+----------------------------+----+---------+------------+----------+------+------------+-----+------+\n",
            "only showing top 20 rows\n",
            "\n"
          ]
        }
      ]
    },
    {
      "cell_type": "markdown",
      "source": [
        "FILTRADO CON MULTIPLES **CONDICIONES**"
      ],
      "metadata": {
        "id": "7MMpB2S5ojFt"
      }
    },
    {
      "cell_type": "code",
      "source": [
        "#VISUALIZAR CUANTOS REGISTROS MULTIPLES HAY\n",
        "\n",
        "total_count = df.count()\n",
        "print (\"Total de registros :\" , total_count)\n",
        "\n",
        "USA = df.filter((col('Origin') == \"US\") & (col('Horsepower') == \"150.0\"))\n",
        "USA_Conteo = USA.count()\n",
        "\n",
        "print (\"Total de registros en US:\" , USA_Conteo)\n",
        "\n",
        "\n",
        "\n",
        "USA.show(truncate = False)\n",
        "\n",
        "\n",
        "\n",
        "df.filter((col('Origin') == \"US\") & (col('Horsepower') >= \"100.00\")).show(truncate = False)"
      ],
      "metadata": {
        "colab": {
          "base_uri": "https://localhost:8080/"
        },
        "id": "U-dgTJHyomED",
        "outputId": "ce1b31b1-2e82-433a-b286-f7412dfa2ca8"
      },
      "execution_count": null,
      "outputs": [
        {
          "output_type": "stream",
          "name": "stdout",
          "text": [
            "Total de registros : 407\n",
            "Total de registros en US: 22\n",
            "+------------------------------+----+---------+------------+----------+------+------------+-----+------+\n",
            "|Car                           |MPG |Cylinders|Displacement|Horsepower|Weight|Acceleration|Model|Origin|\n",
            "+------------------------------+----+---------+------------+----------+------+------------+-----+------+\n",
            "|Plymouth Satellite            |18.0|8        |318.0       |150.0     |3436. |11.0        |70   |US    |\n",
            "|AMC Rebel SST                 |16.0|8        |304.0       |150.0     |3433. |12.0        |70   |US    |\n",
            "|Chevrolet Monte Carlo         |15.0|8        |400.0       |150.0     |3761. |9.5         |70   |US    |\n",
            "|Plymouth Fury iii             |14.0|8        |318.0       |150.0     |4096. |13.0        |71   |US    |\n",
            "|Plymouth Fury III             |15.0|8        |318.0       |150.0     |4135. |13.5        |72   |US    |\n",
            "|AMC Ambassador SST            |17.0|8        |304.0       |150.0     |3672. |11.5        |72   |US    |\n",
            "|AMC Matador (sw)              |15.0|8        |304.0       |150.0     |3892. |12.5        |72   |US    |\n",
            "|Plymouth Satellite Custom (sw)|14.0|8        |318.0       |150.0     |4077. |14.0        |72   |US    |\n",
            "|AMC Matador                   |14.0|8        |304.0       |150.0     |3672. |11.5        |73   |US    |\n",
            "|Dodge Coronet Custom          |15.0|8        |318.0       |150.0     |3777. |12.5        |73   |US    |\n",
            "|Chevrolet Caprice Classic     |13.0|8        |400.0       |150.0     |4464. |12.0        |73   |US    |\n",
            "|Plymouth Fury Gran Sedan      |14.0|8        |318.0       |150.0     |4237. |14.5        |73   |US    |\n",
            "|Chevrolet Impala              |11.0|8        |400.0       |150.0     |4997. |14.0        |73   |US    |\n",
            "|Dodge Dart Custom             |15.0|8        |318.0       |150.0     |3399. |11.0        |73   |US    |\n",
            "|Buick Century Luxus (sw)      |13.0|8        |350.0       |150.0     |4699. |14.5        |74   |US    |\n",
            "|Dodge Coronet Custom (sw)     |14.0|8        |318.0       |150.0     |4457. |13.5        |74   |US    |\n",
            "|AMC Matador (sw)              |14.0|8        |304.0       |150.0     |4257. |15.5        |74   |US    |\n",
            "|Plymouth Grand Fury           |16.0|8        |318.0       |150.0     |4498. |14.5        |75   |US    |\n",
            "|Dodge Coronet Brougham        |16.0|8        |318.0       |150.0     |4190. |13.0        |76   |US    |\n",
            "|Plymouth Volare Premier v8    |13.0|8        |318.0       |150.0     |3940. |13.2        |76   |US    |\n",
            "+------------------------------+----+---------+------------+----------+------+------------+-----+------+\n",
            "only showing top 20 rows\n",
            "\n",
            "+--------------------------------+----+---------+------------+----------+------+------------+-----+------+\n",
            "|Car                             |MPG |Cylinders|Displacement|Horsepower|Weight|Acceleration|Model|Origin|\n",
            "+--------------------------------+----+---------+------------+----------+------+------------+-----+------+\n",
            "|Chevrolet Chevelle Malibu       |18.0|8        |307.0       |130.0     |3504. |12.0        |70   |US    |\n",
            "|Buick Skylark 320               |15.0|8        |350.0       |165.0     |3693. |11.5        |70   |US    |\n",
            "|Plymouth Satellite              |18.0|8        |318.0       |150.0     |3436. |11.0        |70   |US    |\n",
            "|AMC Rebel SST                   |16.0|8        |304.0       |150.0     |3433. |12.0        |70   |US    |\n",
            "|Ford Torino                     |17.0|8        |302.0       |140.0     |3449. |10.5        |70   |US    |\n",
            "|Ford Galaxie 500                |15.0|8        |429.0       |198.0     |4341. |10.0        |70   |US    |\n",
            "|Chevrolet Impala                |14.0|8        |454.0       |220.0     |4354. |9.0         |70   |US    |\n",
            "|Plymouth Fury iii               |14.0|8        |440.0       |215.0     |4312. |8.5         |70   |US    |\n",
            "|Pontiac Catalina                |14.0|8        |455.0       |225.0     |4425. |10.0        |70   |US    |\n",
            "|AMC Ambassador DPL              |15.0|8        |390.0       |190.0     |3850. |8.5         |70   |US    |\n",
            "|Chevrolet Chevelle Concours (sw)|0   |8        |350.0       |165.0     |4142. |11.5        |70   |US    |\n",
            "|Ford Torino (sw)                |0   |8        |351.0       |153.0     |4034. |11.0        |70   |US    |\n",
            "|Plymouth Satellite (sw)         |0   |8        |383.0       |175.0     |4166. |10.5        |70   |US    |\n",
            "|AMC Rebel SST (sw)              |0   |8        |360.0       |175.0     |3850. |11.0        |70   |US    |\n",
            "|Dodge Challenger SE             |15.0|8        |383.0       |170.0     |3563. |10.0        |70   |US    |\n",
            "|Plymouth 'Cuda 340              |14.0|8        |340.0       |160.0     |3609. |8.0         |70   |US    |\n",
            "|Ford Mustang Boss 302           |0   |8        |302.0       |140.0     |3353. |8.0         |70   |US    |\n",
            "|Chevrolet Monte Carlo           |15.0|8        |400.0       |150.0     |3761. |9.5         |70   |US    |\n",
            "|Buick Estate Wagon (sw)         |14.0|8        |455.0       |225.0     |3086. |10.0        |70   |US    |\n",
            "|Plymouth Duster                 |22.0|6        |198.0       |95.00     |2833. |15.5        |70   |US    |\n",
            "+--------------------------------+----+---------+------------+----------+------+------------+-----+------+\n",
            "only showing top 20 rows\n",
            "\n"
          ]
        }
      ]
    }
  ]
}