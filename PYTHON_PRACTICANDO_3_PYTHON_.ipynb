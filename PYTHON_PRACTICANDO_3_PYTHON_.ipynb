{
  "nbformat": 4,
  "nbformat_minor": 0,
  "metadata": {
    "colab": {
      "provenance": [],
      "collapsed_sections": [
        "xlbEuJg2AMtQ",
        "ldz6ptsWL-AB"
      ],
      "authorship_tag": "ABX9TyPoJ2CqjRmrTGVhWIspKEPt",
      "include_colab_link": true
    },
    "kernelspec": {
      "name": "python3",
      "display_name": "Python 3"
    },
    "language_info": {
      "name": "python"
    }
  },
  "cells": [
    {
      "cell_type": "markdown",
      "metadata": {
        "id": "view-in-github",
        "colab_type": "text"
      },
      "source": [
        "<a href=\"https://colab.research.google.com/github/jhostynbp/proyect/blob/master/PYTHON_PRACTICANDO_3_PYTHON_.ipynb\" target=\"_parent\"><img src=\"https://colab.research.google.com/assets/colab-badge.svg\" alt=\"Open In Colab\"/></a>"
      ]
    },
    {
      "cell_type": "markdown",
      "source": [
        "#--MODULO 3 --- PROGRAMACION EN PYTHON\n"
      ],
      "metadata": {
        "id": "kAqNBR1vlsn6"
      }
    },
    {
      "cell_type": "markdown",
      "source": [
        "#CONDICIONES Y LOOP"
      ],
      "metadata": {
        "id": "b1LZOSvBl3XC"
      }
    },
    {
      "cell_type": "code",
      "execution_count": null,
      "metadata": {
        "colab": {
          "base_uri": "https://localhost:8080/"
        },
        "id": "OqbQpZk3lozS",
        "outputId": "43855adc-5b1b-475b-929d-c91de44b0437"
      },
      "outputs": [
        {
          "output_type": "execute_result",
          "data": {
            "text/plain": [
              "18"
            ]
          },
          "metadata": {},
          "execution_count": 2
        }
      ],
      "source": [
        "Temperatura = 18\n",
        "Temperatura"
      ]
    },
    {
      "cell_type": "code",
      "source": [
        "#PARA COMPARAR SI NUESTRO VALOR ES IGUAL A 30\n",
        "Temperatura == 30"
      ],
      "metadata": {
        "colab": {
          "base_uri": "https://localhost:8080/"
        },
        "id": "TQW0jM-6mMyO",
        "outputId": "fbb6f06e-d1e5-40ed-b458-27be43a749e3"
      },
      "execution_count": null,
      "outputs": [
        {
          "output_type": "execute_result",
          "data": {
            "text/plain": [
              "False"
            ]
          },
          "metadata": {},
          "execution_count": 3
        }
      ]
    },
    {
      "cell_type": "code",
      "source": [
        "#PARA COMPARAR SI NUESTRO VALOR ES MENOR A 25\n",
        "Temperatura < 25"
      ],
      "metadata": {
        "colab": {
          "base_uri": "https://localhost:8080/"
        },
        "id": "c-Di7Bi8mWwz",
        "outputId": "37b6e57c-3747-4435-e0db-83a13916089a"
      },
      "execution_count": null,
      "outputs": [
        {
          "output_type": "execute_result",
          "data": {
            "text/plain": [
              "True"
            ]
          },
          "metadata": {},
          "execution_count": 4
        }
      ]
    },
    {
      "cell_type": "code",
      "source": [
        "#PARA COMPARAR SI NUESTRO VALOR ES DIFERENTE A 15\n",
        "Temperatura != 15"
      ],
      "metadata": {
        "colab": {
          "base_uri": "https://localhost:8080/"
        },
        "id": "aeq_BHyOmfxQ",
        "outputId": "ae2cc0ea-b35f-42d3-c27b-6693aafa3d95"
      },
      "execution_count": null,
      "outputs": [
        {
          "output_type": "execute_result",
          "data": {
            "text/plain": [
              "True"
            ]
          },
          "metadata": {},
          "execution_count": 5
        }
      ]
    },
    {
      "cell_type": "code",
      "source": [
        "#PARA COMPARAR SI NUESTRO VALOR ES MAYOR O IGUAL A 18\n",
        "Temperatura >= 18"
      ],
      "metadata": {
        "colab": {
          "base_uri": "https://localhost:8080/"
        },
        "id": "aE3-zD8omp8R",
        "outputId": "c288199e-8de9-4dae-9496-cada490924f5"
      },
      "execution_count": null,
      "outputs": [
        {
          "output_type": "execute_result",
          "data": {
            "text/plain": [
              "True"
            ]
          },
          "metadata": {},
          "execution_count": 6
        }
      ]
    },
    {
      "cell_type": "code",
      "source": [
        "if(Temperatura < 0):\n",
        "  print(\"Temperatura es menor a 0C\")"
      ],
      "metadata": {
        "id": "SmHg9HWym4TX"
      },
      "execution_count": null,
      "outputs": []
    },
    {
      "cell_type": "code",
      "source": [
        "Temperatura =-4\n",
        "if(Temperatura < 0):\n",
        "  print(\"Temperatura es menor a 0C\")\n"
      ],
      "metadata": {
        "colab": {
          "base_uri": "https://localhost:8080/"
        },
        "id": "eAXokQ7ef64a",
        "outputId": "4d4c246f-bf79-4443-ac32-10e4218cefab"
      },
      "execution_count": null,
      "outputs": [
        {
          "output_type": "stream",
          "name": "stdout",
          "text": [
            "Temperatura es menor a 0C\n"
          ]
        }
      ]
    },
    {
      "cell_type": "code",
      "source": [
        "Temperatura =22\n",
        "if(Temperatura < 0):\n",
        "  print(\"Temperatura es menor a 0C\")\n",
        "else :\n",
        "  print(\"Temperatura es mayor a 0C\")"
      ],
      "metadata": {
        "colab": {
          "base_uri": "https://localhost:8080/"
        },
        "id": "lNdMqaPvgY9s",
        "outputId": "df8f6bf7-86e8-48b2-f874-a407e7526756"
      },
      "execution_count": null,
      "outputs": [
        {
          "output_type": "stream",
          "name": "stdout",
          "text": [
            "Temperatura es mayor a 0C\n"
          ]
        }
      ]
    },
    {
      "cell_type": "code",
      "source": [
        "#ELIF si no cumple las condicionales no imprime valor alguno\n",
        "Temperatura = 22\n",
        "if(Temperatura < 0):\n",
        "  print(\"Temperatura es menor a 0C\")\n",
        "elif (Temperatura > 35 ):\n",
        "  print(\"Temperatura es mayor a 0C\")"
      ],
      "metadata": {
        "id": "V6Ks3hs-kbgz"
      },
      "execution_count": null,
      "outputs": []
    },
    {
      "cell_type": "code",
      "source": [
        "Temperatura = 22\n",
        "if(Temperatura < 0):\n",
        "  print(\"Temperatura es menor a 0C\")\n",
        "elif (Temperatura > 35 ):\n",
        "  print(\"Temperatura es mayor a 0C\")\n",
        "else:\n",
        "  print(\"Otra temperatura\")"
      ],
      "metadata": {
        "colab": {
          "base_uri": "https://localhost:8080/"
        },
        "id": "j1gO1s0Dku6H",
        "outputId": "36b6d441-8332-42cc-86d6-d69407eecda1"
      },
      "execution_count": null,
      "outputs": [
        {
          "output_type": "stream",
          "name": "stdout",
          "text": [
            "Otra temperatura\n"
          ]
        }
      ]
    },
    {
      "cell_type": "markdown",
      "source": [
        "##OPERADOR LOGICO"
      ],
      "metadata": {
        "id": "OwRaHj3-lZyL"
      }
    },
    {
      "cell_type": "code",
      "source": [
        "Temperatura = 22\n",
        "Temperatura_Alta = 25"
      ],
      "metadata": {
        "id": "a9IlenqwlEd8"
      },
      "execution_count": null,
      "outputs": []
    },
    {
      "cell_type": "code",
      "source": [
        "Temperatura != Temperatura_Alta"
      ],
      "metadata": {
        "colab": {
          "base_uri": "https://localhost:8080/"
        },
        "id": "VgYQHu6Qll3W",
        "outputId": "0da040ed-b164-4280-9e45-78e87520a31b"
      },
      "execution_count": null,
      "outputs": [
        {
          "output_type": "execute_result",
          "data": {
            "text/plain": [
              "True"
            ]
          },
          "metadata": {},
          "execution_count": 18
        }
      ]
    },
    {
      "cell_type": "code",
      "source": [
        "#IS NOT (no tienen el mismo valor)\n",
        "Temperatura is not Temperatura_Alta"
      ],
      "metadata": {
        "colab": {
          "base_uri": "https://localhost:8080/"
        },
        "id": "4nc-m8k8lqVe",
        "outputId": "208c6171-d20e-413c-949a-19f313e469dc"
      },
      "execution_count": null,
      "outputs": [
        {
          "output_type": "execute_result",
          "data": {
            "text/plain": [
              "True"
            ]
          },
          "metadata": {},
          "execution_count": 19
        }
      ]
    },
    {
      "cell_type": "code",
      "source": [
        "if(Temperatura is not Temperatura_Alta) :\n",
        "  print(\" TEMPERATURA OK\")"
      ],
      "metadata": {
        "colab": {
          "base_uri": "https://localhost:8080/"
        },
        "id": "tZvZDwn_l-GZ",
        "outputId": "c6cf6daf-0f13-4fe9-934c-77eb0a9d3847"
      },
      "execution_count": null,
      "outputs": [
        {
          "output_type": "stream",
          "name": "stdout",
          "text": [
            " TEMPERATURA OK\n"
          ]
        }
      ]
    },
    {
      "cell_type": "code",
      "source": [
        "#OR uno u otra condicion deben cumplir\n",
        "if(Temperatura == 0 ) or (Temperatura_Alta<0):\n",
        "  print (\"Temperatura de congelamiento es menor \")\n",
        "else:\n",
        "  print(\"No Congelacion\")\n",
        ""
      ],
      "metadata": {
        "colab": {
          "base_uri": "https://localhost:8080/"
        },
        "id": "zIPBzWwLmJ0p",
        "outputId": "5db83b12-0661-4d00-9ed8-ab84cca350c9"
      },
      "execution_count": null,
      "outputs": [
        {
          "output_type": "stream",
          "name": "stdout",
          "text": [
            "No Congelacion\n"
          ]
        }
      ]
    },
    {
      "cell_type": "code",
      "source": [
        "#AND cualquiera de las 2 condiciones debe cumplir\n",
        "if(Temperatura >10 ) and (Temperatura_Alta < 30):\n",
        "  print (\"Temperatura es correcta :D \")\n",
        "else:\n",
        "  print(\"Temperatura es Incorreccta\")"
      ],
      "metadata": {
        "colab": {
          "base_uri": "https://localhost:8080/"
        },
        "id": "Am9qK8vR_gKe",
        "outputId": "1c04e417-1616-4759-9003-b56038d29326"
      },
      "execution_count": null,
      "outputs": [
        {
          "output_type": "stream",
          "name": "stdout",
          "text": [
            "Temperatura es correcta :D \n"
          ]
        }
      ]
    },
    {
      "cell_type": "markdown",
      "source": [
        "## FOR LOOP - ITERATIVOS"
      ],
      "metadata": {
        "id": "xlbEuJg2AMtQ"
      }
    },
    {
      "cell_type": "code",
      "source": [
        "#Crea una secuencia de range(input, output)\n",
        "range(5,10)"
      ],
      "metadata": {
        "colab": {
          "base_uri": "https://localhost:8080/"
        },
        "id": "qtloz-RV_sh0",
        "outputId": "15984ab1-384b-4556-93b3-58a0884e5f5f"
      },
      "execution_count": null,
      "outputs": [
        {
          "output_type": "execute_result",
          "data": {
            "text/plain": [
              "range(5, 10)"
            ]
          },
          "metadata": {},
          "execution_count": 5
        }
      ]
    },
    {
      "cell_type": "code",
      "source": [
        "#CREA UNA LISTA DEL RANGO DEL 5 AL 10-1\n",
        "list(range(5,10))"
      ],
      "metadata": {
        "colab": {
          "base_uri": "https://localhost:8080/"
        },
        "id": "6Q7pokKfDA2v",
        "outputId": "b11092f2-0c3c-4590-da09-2a065499ff89"
      },
      "execution_count": null,
      "outputs": [
        {
          "output_type": "execute_result",
          "data": {
            "text/plain": [
              "[5, 6, 7, 8, 9]"
            ]
          },
          "metadata": {},
          "execution_count": 7
        }
      ]
    },
    {
      "cell_type": "code",
      "source": [
        "#CREAR UNA LISTA\n",
        "temperatura_2 =[1,20,15,32,27]\n",
        "print (temperatura_2)"
      ],
      "metadata": {
        "colab": {
          "base_uri": "https://localhost:8080/"
        },
        "id": "BmozjVL9DPyP",
        "outputId": "61f55958-c7bf-4db4-9b14-7500894f8a70"
      },
      "execution_count": null,
      "outputs": [
        {
          "output_type": "stream",
          "name": "stdout",
          "text": [
            "[1, 20, 15, 32, 27]\n"
          ]
        }
      ]
    },
    {
      "cell_type": "code",
      "source": [
        "#DIMENSION DE LA LISTA - LEN\n",
        "len(temperatura_2)"
      ],
      "metadata": {
        "colab": {
          "base_uri": "https://localhost:8080/"
        },
        "id": "r6P0C_8rDnmt",
        "outputId": "ab465a2e-c827-4f05-bb5f-365493c3d6b4"
      },
      "execution_count": null,
      "outputs": [
        {
          "output_type": "execute_result",
          "data": {
            "text/plain": [
              "5"
            ]
          },
          "metadata": {},
          "execution_count": 13
        }
      ]
    },
    {
      "cell_type": "code",
      "source": [
        "#CREANDO FOR LOOP\n",
        "#IMPRIME EL ELEMENTO I DE LA LISTA\n",
        "for i in range(5):\n",
        "   print(temperatura_2[i])\n"
      ],
      "metadata": {
        "colab": {
          "base_uri": "https://localhost:8080/"
        },
        "id": "wp2610m5D2YR",
        "outputId": "e18d6efc-0e2c-4a77-fdf5-cfda81133938"
      },
      "execution_count": null,
      "outputs": [
        {
          "output_type": "stream",
          "name": "stdout",
          "text": [
            "1\n",
            "20\n",
            "15\n",
            "32\n",
            "27\n"
          ]
        }
      ]
    },
    {
      "cell_type": "code",
      "source": [
        "#IMPRIMIR LA LISTA CON UNA OPERACION DE MULTIPLICACION\n",
        "for i in range(5,10):\n",
        "  print (i*2)"
      ],
      "metadata": {
        "colab": {
          "base_uri": "https://localhost:8080/"
        },
        "id": "xF4hfquHEiFR",
        "outputId": "ad553b32-2cef-4883-e985-0170a5093039"
      },
      "execution_count": null,
      "outputs": [
        {
          "output_type": "stream",
          "name": "stdout",
          "text": [
            "10\n",
            "12\n",
            "14\n",
            "16\n",
            "18\n"
          ]
        }
      ]
    },
    {
      "cell_type": "code",
      "source": [
        "#CREAR UNA LISTA CON RANGO 10-1\n",
        "list(range(10))"
      ],
      "metadata": {
        "colab": {
          "base_uri": "https://localhost:8080/"
        },
        "id": "qHze8guZG2vT",
        "outputId": "b4efb4ab-4a26-45fc-c839-89f466fc91a2"
      },
      "execution_count": null,
      "outputs": [
        {
          "output_type": "execute_result",
          "data": {
            "text/plain": [
              "[0, 1, 2, 3, 4, 5, 6, 7, 8, 9]"
            ]
          },
          "metadata": {},
          "execution_count": 22
        }
      ]
    },
    {
      "cell_type": "markdown",
      "source": [
        "## WHILE LOOP"
      ],
      "metadata": {
        "id": "ldz6ptsWL-AB"
      }
    },
    {
      "cell_type": "code",
      "source": [
        "# HASTA QUE UNA CONDICION SE CUMPLA\n",
        "# AGREGAR EL I+=1 PARA AUMENTAR DE VALOR\n",
        "i = 0\n",
        "while (i <6 ):\n",
        "  print (i)\n",
        "  i+=1"
      ],
      "metadata": {
        "colab": {
          "base_uri": "https://localhost:8080/"
        },
        "id": "XrdeHniCL4fq",
        "outputId": "07538716-1440-428a-b1c5-ac0934926764"
      },
      "execution_count": null,
      "outputs": [
        {
          "output_type": "stream",
          "name": "stdout",
          "text": [
            "0\n",
            "1\n",
            "2\n",
            "3\n",
            "4\n",
            "5\n"
          ]
        }
      ]
    },
    {
      "cell_type": "markdown",
      "source": [
        "# FUNCIONES"
      ],
      "metadata": {
        "id": "a79ZiQfqUfCO"
      }
    },
    {
      "cell_type": "code",
      "source": [
        "temperatura_2 = [1, 20, 15, 32, 27]\n",
        "print(temperatura_2)"
      ],
      "metadata": {
        "colab": {
          "base_uri": "https://localhost:8080/"
        },
        "id": "7whN4EmhVA7w",
        "outputId": "bad31b33-d1fa-450c-9d79-2d750cf31916"
      },
      "execution_count": null,
      "outputs": [
        {
          "output_type": "stream",
          "name": "stdout",
          "text": [
            "[1, 20, 15, 32, 27]\n"
          ]
        }
      ]
    },
    {
      "cell_type": "code",
      "source": [
        "#LEN DIMENSION DE UNA LISTA\n",
        "len(temperatura_2)"
      ],
      "metadata": {
        "colab": {
          "base_uri": "https://localhost:8080/"
        },
        "id": "IH04FfLXVHNa",
        "outputId": "a3176389-9b0f-44d1-943d-f04c1e0dca0c"
      },
      "execution_count": null,
      "outputs": [
        {
          "output_type": "execute_result",
          "data": {
            "text/plain": [
              "5"
            ]
          },
          "metadata": {},
          "execution_count": 28
        }
      ]
    },
    {
      "cell_type": "code",
      "source": [
        "#MAX EVALUA EL VALOR MAXIMO DE LA LISTA\n",
        "max(temperatura_2)"
      ],
      "metadata": {
        "colab": {
          "base_uri": "https://localhost:8080/"
        },
        "id": "khhm8y3WVPr0",
        "outputId": "9ae5b3ce-ee18-4b7d-9008-5b20e7f223ed"
      },
      "execution_count": null,
      "outputs": [
        {
          "output_type": "execute_result",
          "data": {
            "text/plain": [
              "32"
            ]
          },
          "metadata": {},
          "execution_count": 29
        }
      ]
    },
    {
      "cell_type": "code",
      "source": [
        "#ASIGNAR UNA VARIABLE\n",
        "max_temperatura = max(temperatura_2)\n",
        "print(max_temperatura)"
      ],
      "metadata": {
        "colab": {
          "base_uri": "https://localhost:8080/"
        },
        "id": "I0kJJC4NVTb4",
        "outputId": "0dcbff1a-8a62-4c1f-ae8c-c9b6da0d720b"
      },
      "execution_count": null,
      "outputs": [
        {
          "output_type": "stream",
          "name": "stdout",
          "text": [
            "32\n"
          ]
        }
      ]
    },
    {
      "cell_type": "code",
      "source": [
        "#MIN EVALUA EL VALOR MINIMO DE LA LISTA\n",
        "min(temperatura_2)"
      ],
      "metadata": {
        "colab": {
          "base_uri": "https://localhost:8080/"
        },
        "id": "3def-PljVtXl",
        "outputId": "088f9cff-1c1e-4473-a9e8-abdbf4adec56"
      },
      "execution_count": null,
      "outputs": [
        {
          "output_type": "execute_result",
          "data": {
            "text/plain": [
              "1"
            ]
          },
          "metadata": {},
          "execution_count": 32
        }
      ]
    },
    {
      "cell_type": "code",
      "source": [
        "#FUNCION ROUND FUNCIONA PARA REDONDEAR UN VALOR\n",
        "# CANTIDAD DE DECIMALES 1\n",
        "round (34.58242,1)\n"
      ],
      "metadata": {
        "colab": {
          "base_uri": "https://localhost:8080/"
        },
        "id": "RunsWCQYV15b",
        "outputId": "1b80580a-ecff-4f35-ac7b-5cbe030c8aee"
      },
      "execution_count": null,
      "outputs": [
        {
          "output_type": "execute_result",
          "data": {
            "text/plain": [
              "34.6"
            ]
          },
          "metadata": {},
          "execution_count": 33
        }
      ]
    },
    {
      "cell_type": "code",
      "source": [
        "#CANTIDAD DE DECIMALES 3\n",
        "round (34.58242,3)"
      ],
      "metadata": {
        "colab": {
          "base_uri": "https://localhost:8080/"
        },
        "id": "O5XK-8_yWJnw",
        "outputId": "b9c9a38b-b8a0-4dcd-a908-2b6b37b44384"
      },
      "execution_count": null,
      "outputs": [
        {
          "output_type": "execute_result",
          "data": {
            "text/plain": [
              "34.582"
            ]
          },
          "metadata": {},
          "execution_count": 34
        }
      ]
    },
    {
      "cell_type": "code",
      "source": [
        "#CONOCER LA FUNCION\n",
        "help(round)"
      ],
      "metadata": {
        "colab": {
          "base_uri": "https://localhost:8080/"
        },
        "id": "fZH4kUBjWOs7",
        "outputId": "66c26be0-255b-4f78-c4b0-790cdc90eb52"
      },
      "execution_count": null,
      "outputs": [
        {
          "output_type": "stream",
          "name": "stdout",
          "text": [
            "Help on built-in function round in module builtins:\n",
            "\n",
            "round(number, ndigits=None)\n",
            "    Round a number to a given precision in decimal digits.\n",
            "    \n",
            "    The return value is an integer if ndigits is omitted or None.  Otherwise\n",
            "    the return value has the same type as the number.  ndigits may be negative.\n",
            "\n"
          ]
        }
      ]
    },
    {
      "cell_type": "markdown",
      "source": [
        "##METODOS"
      ],
      "metadata": {
        "id": "rB5aj7PVfNSg"
      }
    },
    {
      "cell_type": "code",
      "source": [
        "pais =\"perú\"\n",
        "print(pais)"
      ],
      "metadata": {
        "colab": {
          "base_uri": "https://localhost:8080/"
        },
        "id": "q9UwyI5HfMGZ",
        "outputId": "44e92838-546c-4739-9661-6c5d1d05a75b"
      },
      "execution_count": null,
      "outputs": [
        {
          "output_type": "stream",
          "name": "stdout",
          "text": [
            "perú\n"
          ]
        }
      ]
    },
    {
      "cell_type": "code",
      "source": [
        "#Pone en Mayuscula la primera letra\n",
        "pais.capitalize()"
      ],
      "metadata": {
        "colab": {
          "base_uri": "https://localhost:8080/",
          "height": 36
        },
        "id": "de_FLv23f55l",
        "outputId": "5724e6c9-6a55-422e-86df-e17fcd61c666"
      },
      "execution_count": null,
      "outputs": [
        {
          "output_type": "execute_result",
          "data": {
            "text/plain": [
              "'Perú'"
            ],
            "application/vnd.google.colaboratory.intrinsic+json": {
              "type": "string"
            }
          },
          "metadata": {},
          "execution_count": 43
        }
      ]
    },
    {
      "cell_type": "code",
      "source": [
        "#REPLACE reemplaza valores\n",
        "pais.replace('ú','u')\n"
      ],
      "metadata": {
        "colab": {
          "base_uri": "https://localhost:8080/",
          "height": 36
        },
        "id": "O6cResqSgTHD",
        "outputId": "72d3b90a-ead4-4832-de27-24487f5d56ec"
      },
      "execution_count": null,
      "outputs": [
        {
          "output_type": "execute_result",
          "data": {
            "text/plain": [
              "'peru'"
            ],
            "application/vnd.google.colaboratory.intrinsic+json": {
              "type": "string"
            }
          },
          "metadata": {},
          "execution_count": 45
        }
      ]
    },
    {
      "cell_type": "code",
      "source": [
        "#INDEX - BUSCAR EN QUE INDICE SE ENCUENTRA EL VALOR\n",
        "temperatura_2.index(32)"
      ],
      "metadata": {
        "colab": {
          "base_uri": "https://localhost:8080/"
        },
        "id": "EThtCn2MgvbM",
        "outputId": "3aaeafa1-3ba1-43e9-e315-e6fd5f72a42f"
      },
      "execution_count": null,
      "outputs": [
        {
          "output_type": "execute_result",
          "data": {
            "text/plain": [
              "3"
            ]
          },
          "metadata": {},
          "execution_count": 46
        }
      ]
    },
    {
      "cell_type": "code",
      "source": [
        "#COUNT CUENTA EL NUMERO DE VECES QUE ESTA EN LA LISTA\n",
        "temperatura_2.count(20)"
      ],
      "metadata": {
        "colab": {
          "base_uri": "https://localhost:8080/"
        },
        "id": "gt6aX8xLhAEz",
        "outputId": "940067fc-aca6-4ba4-df9f-d8f8ff35b701"
      },
      "execution_count": null,
      "outputs": [
        {
          "output_type": "execute_result",
          "data": {
            "text/plain": [
              "1"
            ]
          },
          "metadata": {},
          "execution_count": 47
        }
      ]
    },
    {
      "cell_type": "code",
      "source": [
        "#LISTA NO TIENE EL ATRIBUTO DE REPLACE"
      ],
      "metadata": {
        "id": "9bFXXNDdhMEe"
      },
      "execution_count": null,
      "outputs": []
    },
    {
      "cell_type": "code",
      "source": [
        "#APPEND AGREGA UN VALOR AL FINAL DE LA LISTA\n",
        "print(temperatura_2)"
      ],
      "metadata": {
        "colab": {
          "base_uri": "https://localhost:8080/"
        },
        "id": "r04-yQ-jgrej",
        "outputId": "30d55a97-be87-4319-9e94-975dc181fffb"
      },
      "execution_count": null,
      "outputs": [
        {
          "output_type": "stream",
          "name": "stdout",
          "text": [
            "[1, 20, 15, 32, 27]\n"
          ]
        }
      ]
    },
    {
      "cell_type": "code",
      "source": [
        "temperatura_2.append(10)\n",
        "print (temperatura_2)"
      ],
      "metadata": {
        "colab": {
          "base_uri": "https://localhost:8080/"
        },
        "id": "OfXY98Rxhjhs",
        "outputId": "3b651233-6265-4d68-a38c-786268a4b439"
      },
      "execution_count": null,
      "outputs": [
        {
          "output_type": "stream",
          "name": "stdout",
          "text": [
            "[1, 20, 15, 32, 27, 10]\n"
          ]
        }
      ]
    }
  ]
}